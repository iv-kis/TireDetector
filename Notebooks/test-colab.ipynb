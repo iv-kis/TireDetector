version https://git-lfs.github.com/spec/v1
oid sha256:65d77632075111fa8c96252718107dc13aa4057ae833bb255489db702f52b874
size 8404
