{
 "cells": [
  {
   "cell_type": "code",
   "execution_count": 16,
   "id": "1b260147",
   "metadata": {},
   "outputs": [],
   "source": [
    "import pandas as pd"
   ]
  },
  {
   "cell_type": "markdown",
   "id": "93d8cf46",
   "metadata": {},
   "source": [
    "## SET UP DARKNET"
   ]
  },
  {
   "cell_type": "markdown",
   "id": "aef06ec5",
   "metadata": {},
   "source": [
    "### Install darknet"
   ]
  },
  {
   "cell_type": "code",
   "execution_count": 50,
   "id": "c4c97bac",
   "metadata": {},
   "outputs": [],
   "source": [
    "%cd /content/\n",
    "%rm -rf darknet\n",
    "!git clone https://github.com/roboflow-ai/darknet.git"
   ]
  },
  {
   "cell_type": "code",
   "execution_count": null,
   "id": "d463ffc8",
   "metadata": {},
   "outputs": [],
   "source": [
    "#install environment from the Makefile\n",
    "%cd /content/darknet/\n",
    "# compute_37, sm_37 for Tesla K80\n",
    "# compute_75, sm_75 for Tesla T4\n",
    "# !sed -i 's/ARCH= -gencode arch=compute_60,code=sm_60/ARCH= -gencode arch=compute_75,code=sm_75/g' Makefile\n",
    "\n",
    "#install environment from the Makefile\n",
    "#note if you are on Colab Pro this works on a P100 GPU\n",
    "#if you are on Colab free, you may need to change the Makefile for the K80 GPU\n",
    "#this goes for any GPU, you need to change the Makefile to inform darknet which GPU you are running on.\n",
    "!sed -i 's/OPENCV=0/OPENCV=1/g' Makefile\n",
    "!sed -i 's/GPU=0/GPU=1/g' Makefile\n",
    "!sed -i 's/CUDNN=0/CUDNN=1/g' Makefile\n",
    "!sed -i \"s/ARCH= -gencode arch=compute_60,code=sm_60/ARCH= ${ARCH_VALUE}/g\" Makefile\n",
    "!make"
   ]
  },
  {
   "cell_type": "code",
   "execution_count": 36,
   "id": "10a367cb",
   "metadata": {},
   "outputs": [
    {
     "ename": "FileNotFoundError",
     "evalue": "[WinError 3] Системе не удается найти указанный путь: 'darknet/backup'",
     "output_type": "error",
     "traceback": [
      "\u001b[1;31m---------------------------------------------------------------------------\u001b[0m",
      "\u001b[1;31mFileNotFoundError\u001b[0m                         Traceback (most recent call last)",
      "\u001b[1;32m<ipython-input-36-c3d6967e7e93>\u001b[0m in \u001b[0;36m<module>\u001b[1;34m\u001b[0m\n\u001b[0;32m      1\u001b[0m \u001b[1;32mif\u001b[0m \u001b[0mos\u001b[0m\u001b[1;33m.\u001b[0m\u001b[0mpath\u001b[0m\u001b[1;33m.\u001b[0m\u001b[0mexists\u001b[0m\u001b[1;33m(\u001b[0m\u001b[1;34m'darknet/backup'\u001b[0m\u001b[1;33m)\u001b[0m\u001b[1;33m:\u001b[0m\u001b[1;33m\u001b[0m\u001b[1;33m\u001b[0m\u001b[0m\n\u001b[0;32m      2\u001b[0m     \u001b[0mshutil\u001b[0m\u001b[1;33m.\u001b[0m\u001b[0mrmtree\u001b[0m\u001b[1;33m(\u001b[0m\u001b[1;34m'darknet/backup'\u001b[0m\u001b[1;33m,\u001b[0m \u001b[0monerror\u001b[0m\u001b[1;33m=\u001b[0m\u001b[0mremove_readonly\u001b[0m\u001b[1;33m)\u001b[0m\u001b[1;33m\u001b[0m\u001b[1;33m\u001b[0m\u001b[0m\n\u001b[1;32m----> 3\u001b[1;33m \u001b[0mos\u001b[0m\u001b[1;33m.\u001b[0m\u001b[0mmkdir\u001b[0m\u001b[1;33m(\u001b[0m\u001b[1;34m'darknet/backup'\u001b[0m\u001b[1;33m)\u001b[0m\u001b[1;33m\u001b[0m\u001b[1;33m\u001b[0m\u001b[0m\n\u001b[0m",
      "\u001b[1;31mFileNotFoundError\u001b[0m: [WinError 3] Системе не удается найти указанный путь: 'darknet/backup'"
     ]
    }
   ],
   "source": [
    "if os.path.exists('darknet/backup'):\n",
    "    shutil.rmtree('darknet/backup', onerror=remove_readonly)\n",
    "os.mkdir('darknet/backup')"
   ]
  },
  {
   "cell_type": "markdown",
   "id": "396ff798",
   "metadata": {},
   "source": [
    "### Copy weights into darknet folder"
   ]
  },
  {
   "cell_type": "code",
   "execution_count": 5,
   "id": "1ed0bb97",
   "metadata": {},
   "outputs": [],
   "source": [
    "weights_tiny = {1000 : './model/custom-yolov4-tiny-detector_1000.weights',\n",
    "                2000 : './model/custom-yolov4-tiny-detector_2000.weights',\n",
    "                3000 : './model/custom-yolov4-tiny-detector_3000.weights',\n",
    "                4000 : './model/custom-yolov4-tiny-detector_4000.weights',\n",
    "                'best' : './model/custom-yolov4-tiny-detector_best.weights',\n",
    "                'last' : './model/custom-yolov4-tiny-detector_best.weights'}"
   ]
  },
  {
   "cell_type": "markdown",
   "id": "e9a1b9d1",
   "metadata": {},
   "source": [
    "### Copy files into darknet folder"
   ]
  },
  {
   "cell_type": "code",
   "execution_count": 9,
   "id": "e9d19ae2",
   "metadata": {},
   "outputs": [
    {
     "data": {
      "text/plain": [
       "'darknet/backup/custom-yolov4-detector_2000.weights'"
      ]
     },
     "execution_count": 9,
     "metadata": {},
     "output_type": "execute_result"
    }
   ],
   "source": [
    "shutil.copyfile('../model/coco.names', 'darknet/data/coco.names')\n",
    "shutil.copyfile('../model/obj.data', 'darknet/data/obj.data')\n",
    "\n",
    "# yolov4-tiny\n",
    "shutil.copyfile('../model/custom-yolov4-tiny-detector.cfg', 'darknet/cfg/custom-yolov4-tiny-detector.cfg')\n",
    "shutil.copyfile('../model/custom-yolov4-tiny-detector_1000.weights',\n",
    "                'darknet/backup/custom-yolov4-tiny-detector_1000.weights')\n",
    "shutil.copyfile('../model/custom-yolov4-tiny-detector_2000.weights',\n",
    "                'darknet/backup/custom-yolov4-tiny-detector_2000.weights')\n",
    "shutil.copyfile('../model/custom-yolov4-tiny-detector_3000.weights',\n",
    "                'darknet/backup/custom-yolov4-tiny-detector_3000.weights')\n",
    "shutil.copyfile('../model/custom-yolov4-tiny-detector_4000.weights',\n",
    "                'darknet/backup/custom-yolov4-tiny-detector_4000.weights')\n",
    "shutil.copyfile('../model/custom-yolov4-tiny-detector_best.weights',\n",
    "                'darknet/backup/custom-yolov4-tiny-detector_best.weights')\n",
    "\n",
    "# yolov4\n",
    "shutil.copyfile('../model/custom-yolov4-detector.cfg', 'darknet/cfg/custom-yolov4-detector.cfg')\n",
    "shutil.copyfile('../model/custom-yolov4-detector_1000.weights',\n",
    "                'darknet/backup/custom-yolov4-detector_1000.weights')\n",
    "shutil.copyfile('../model/custom-yolov4-detector_2000.weights',\n",
    "                'darknet/backup/custom-yolov4-detector_2000.weights')\n",
    "#shutil.copyfile('../model/custom-yolov4-detector_3000.weights',\n",
    "#                'darknet/backup/custom-yolov4-detector_3000.weights')\n",
    "#shutil.copyfile('../model/custom-yolov4-detector_4000.weights',\n",
    "#                'darknet/backup/custom-yolov4-detector_4000.weights')\n",
    "#shutil.copyfile('../model/custom-yolov4-detector_best.weights',\n",
    "#                'darknet/backup/custom-yolov4-detector_best.weights');"
   ]
  },
  {
   "cell_type": "markdown",
   "id": "337cf736",
   "metadata": {},
   "source": [
    "### Unzip dataset"
   ]
  },
  {
   "cell_type": "code",
   "execution_count": 17,
   "id": "4f7f2fb8",
   "metadata": {},
   "outputs": [],
   "source": [
    "%cd /content/darknet\n",
    "\n",
    "!curl -L -o dataset.zip \"https://github.com/iv-kis/TireDetector/blob/main/TireDetector.v1-tiredataset_roboflow.darknet.zip?raw=true\"; \\\n",
    "unzip dataset.zip; rm dataset.zip"
   ]
  },
  {
   "cell_type": "markdown",
   "id": "07d53cc3",
   "metadata": {},
   "source": [
    "## CALCULATE AP FOR TEST SET"
   ]
  },
  {
   "cell_type": "code",
   "execution_count": 32,
   "id": "ce7af54d",
   "metadata": {},
   "outputs": [
    {
     "name": "stderr",
     "output_type": "stream",
     "text": [
      "\"darknet\" ­Ґ пў«пҐвбп ў­гваҐ­­Ґ© Ё«Ё ў­Ґи­Ґ©\n",
      "Є®¬ ­¤®©, ЁбЇ®«­пҐ¬®© Їа®Ја ¬¬®© Ё«Ё Ї ЄҐв­л¬ д ©«®¬.\n"
     ]
    }
   ],
   "source": [
    "!darknet detector map obj.data custom-yolov4-tiny-detector.cfg custom-yolov4-tiny-detector_1000.weights"
   ]
  }
 ],
 "metadata": {
  "kernelspec": {
   "display_name": "Python 3",
   "language": "python",
   "name": "python3"
  },
  "language_info": {
   "codemirror_mode": {
    "name": "ipython",
    "version": 3
   },
   "file_extension": ".py",
   "mimetype": "text/x-python",
   "name": "python",
   "nbconvert_exporter": "python",
   "pygments_lexer": "ipython3",
   "version": "3.8.8"
  }
 },
 "nbformat": 4,
 "nbformat_minor": 5
}
