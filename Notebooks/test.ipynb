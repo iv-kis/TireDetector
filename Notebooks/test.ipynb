{
 "cells": [
  {
   "cell_type": "code",
   "execution_count": 16,
   "id": "ba0e5636",
   "metadata": {},
   "outputs": [],
   "source": [
    "#import os\n",
    "#import shutil\n",
    "#import stat\n",
    "\n",
    "import pandas as pd\n",
    "#from zipfile import ZipFile"
   ]
  },
  {
   "cell_type": "raw",
   "id": "c422e390",
   "metadata": {},
   "source": [
    "def remove_readonly(func, path, excinfo):\n",
    "    os.chmod(path, stat.S_IWRITE)\n",
    "    func(path)"
   ]
  },
  {
   "cell_type": "markdown",
   "id": "c7512bb1",
   "metadata": {},
   "source": [
    "## SET UP DARKNET"
   ]
  },
  {
   "cell_type": "markdown",
   "id": "39116eee",
   "metadata": {},
   "source": [
    "### Temporarily install darknet"
   ]
  },
  {
   "cell_type": "code",
   "execution_count": 50,
   "id": "2032ced5",
   "metadata": {},
   "outputs": [],
   "source": [
    "if os.path.exists('darknet/'):\n",
    "    shutil.rmtree('darknet', onerror=remove_readonly)\n",
    "#!git clone https://github.com/roboflow-ai/darknet.git"
   ]
  },
  {
   "cell_type": "code",
   "execution_count": 36,
   "id": "29d1b69a",
   "metadata": {},
   "outputs": [
    {
     "ename": "FileNotFoundError",
     "evalue": "[WinError 3] Системе не удается найти указанный путь: 'darknet/backup'",
     "output_type": "error",
     "traceback": [
      "\u001b[1;31m---------------------------------------------------------------------------\u001b[0m",
      "\u001b[1;31mFileNotFoundError\u001b[0m                         Traceback (most recent call last)",
      "\u001b[1;32m<ipython-input-36-c3d6967e7e93>\u001b[0m in \u001b[0;36m<module>\u001b[1;34m\u001b[0m\n\u001b[0;32m      1\u001b[0m \u001b[1;32mif\u001b[0m \u001b[0mos\u001b[0m\u001b[1;33m.\u001b[0m\u001b[0mpath\u001b[0m\u001b[1;33m.\u001b[0m\u001b[0mexists\u001b[0m\u001b[1;33m(\u001b[0m\u001b[1;34m'darknet/backup'\u001b[0m\u001b[1;33m)\u001b[0m\u001b[1;33m:\u001b[0m\u001b[1;33m\u001b[0m\u001b[1;33m\u001b[0m\u001b[0m\n\u001b[0;32m      2\u001b[0m     \u001b[0mshutil\u001b[0m\u001b[1;33m.\u001b[0m\u001b[0mrmtree\u001b[0m\u001b[1;33m(\u001b[0m\u001b[1;34m'darknet/backup'\u001b[0m\u001b[1;33m,\u001b[0m \u001b[0monerror\u001b[0m\u001b[1;33m=\u001b[0m\u001b[0mremove_readonly\u001b[0m\u001b[1;33m)\u001b[0m\u001b[1;33m\u001b[0m\u001b[1;33m\u001b[0m\u001b[0m\n\u001b[1;32m----> 3\u001b[1;33m \u001b[0mos\u001b[0m\u001b[1;33m.\u001b[0m\u001b[0mmkdir\u001b[0m\u001b[1;33m(\u001b[0m\u001b[1;34m'darknet/backup'\u001b[0m\u001b[1;33m)\u001b[0m\u001b[1;33m\u001b[0m\u001b[1;33m\u001b[0m\u001b[0m\n\u001b[0m",
      "\u001b[1;31mFileNotFoundError\u001b[0m: [WinError 3] Системе не удается найти указанный путь: 'darknet/backup'"
     ]
    }
   ],
   "source": [
    "if os.path.exists('darknet/backup'):\n",
    "    shutil.rmtree('darknet/backup', onerror=remove_readonly)\n",
    "os.mkdir('darknet/backup')"
   ]
  },
  {
   "cell_type": "markdown",
   "id": "e84d14e2",
   "metadata": {},
   "source": [
    "### Copy weights into darknet folder"
   ]
  },
  {
   "cell_type": "code",
   "execution_count": 5,
   "id": "c46feebb",
   "metadata": {},
   "outputs": [],
   "source": [
    "weights_tiny = {1000 : './model/custom-yolov4-tiny-detector_1000.weights',\n",
    "                2000 : './model/custom-yolov4-tiny-detector_2000.weights',\n",
    "                3000 : './model/custom-yolov4-tiny-detector_3000.weights',\n",
    "                4000 : './model/custom-yolov4-tiny-detector_4000.weights',\n",
    "                'best' : './model/custom-yolov4-tiny-detector_best.weights',\n",
    "                'last' : './model/custom-yolov4-tiny-detector_best.weights'}"
   ]
  },
  {
   "cell_type": "markdown",
   "id": "4c263d58",
   "metadata": {},
   "source": [
    "### Copy files into darknet folder"
   ]
  },
  {
   "cell_type": "code",
   "execution_count": 9,
   "id": "d1261992",
   "metadata": {},
   "outputs": [
    {
     "data": {
      "text/plain": [
       "'darknet/backup/custom-yolov4-detector_2000.weights'"
      ]
     },
     "execution_count": 9,
     "metadata": {},
     "output_type": "execute_result"
    }
   ],
   "source": [
    "shutil.copyfile('../model/coco.names', 'darknet/data/coco.names')\n",
    "shutil.copyfile('../model/obj.data', 'darknet/data/obj.data')\n",
    "\n",
    "# yolov4-tiny\n",
    "shutil.copyfile('../model/custom-yolov4-tiny-detector.cfg', 'darknet/cfg/custom-yolov4-tiny-detector.cfg')\n",
    "shutil.copyfile('../model/custom-yolov4-tiny-detector_1000.weights',\n",
    "                'darknet/backup/custom-yolov4-tiny-detector_1000.weights')\n",
    "shutil.copyfile('../model/custom-yolov4-tiny-detector_2000.weights',\n",
    "                'darknet/backup/custom-yolov4-tiny-detector_2000.weights')\n",
    "shutil.copyfile('../model/custom-yolov4-tiny-detector_3000.weights',\n",
    "                'darknet/backup/custom-yolov4-tiny-detector_3000.weights')\n",
    "shutil.copyfile('../model/custom-yolov4-tiny-detector_4000.weights',\n",
    "                'darknet/backup/custom-yolov4-tiny-detector_4000.weights')\n",
    "shutil.copyfile('../model/custom-yolov4-tiny-detector_best.weights',\n",
    "                'darknet/backup/custom-yolov4-tiny-detector_best.weights')\n",
    "\n",
    "# yolov4\n",
    "shutil.copyfile('../model/custom-yolov4-detector.cfg', 'darknet/cfg/custom-yolov4-detector.cfg')\n",
    "shutil.copyfile('../model/custom-yolov4-detector_1000.weights',\n",
    "                'darknet/backup/custom-yolov4-detector_1000.weights')\n",
    "shutil.copyfile('../model/custom-yolov4-detector_2000.weights',\n",
    "                'darknet/backup/custom-yolov4-detector_2000.weights')\n",
    "#shutil.copyfile('../model/custom-yolov4-detector_3000.weights',\n",
    "#                'darknet/backup/custom-yolov4-detector_3000.weights')\n",
    "#shutil.copyfile('../model/custom-yolov4-detector_4000.weights',\n",
    "#                'darknet/backup/custom-yolov4-detector_4000.weights')\n",
    "#shutil.copyfile('../model/custom-yolov4-detector_best.weights',\n",
    "#                'darknet/backup/custom-yolov4-detector_best.weights');"
   ]
  },
  {
   "cell_type": "markdown",
   "id": "2666790d",
   "metadata": {},
   "source": [
    "### Unzip dataset"
   ]
  },
  {
   "cell_type": "code",
   "execution_count": 17,
   "id": "1eccd8b2",
   "metadata": {},
   "outputs": [],
   "source": [
    "with ZipFile('../TireDetector.v1-tiredataset_roboflow.darknet.zip', 'r') as zipObj:\n",
    "   zipObj.extractall('darknet')"
   ]
  },
  {
   "cell_type": "code",
   "execution_count": 47,
   "id": "df3d4e71",
   "metadata": {},
   "outputs": [
    {
     "data": {
      "text/plain": [
       "'C:\\\\Users\\\\ivkis\\\\Documents\\\\Профессия\\\\TireDetection\\\\TireDetector\\\\Notebooks'"
      ]
     },
     "execution_count": 47,
     "metadata": {},
     "output_type": "execute_result"
    }
   ],
   "source": [
    "os.chdir('..')\n",
    "os.getcwd()"
   ]
  },
  {
   "cell_type": "markdown",
   "id": "e02c4a55",
   "metadata": {},
   "source": [
    "## CALCULATE AP FOR TEST SET"
   ]
  },
  {
   "cell_type": "code",
   "execution_count": 32,
   "id": "f931fc62",
   "metadata": {},
   "outputs": [
    {
     "name": "stderr",
     "output_type": "stream",
     "text": [
      "\"darknet\" ­Ґ пў«пҐвбп ў­гваҐ­­Ґ© Ё«Ё ў­Ґи­Ґ©\n",
      "Є®¬ ­¤®©, ЁбЇ®«­пҐ¬®© Їа®Ја ¬¬®© Ё«Ё Ї ЄҐв­л¬ д ©«®¬.\n"
     ]
    }
   ],
   "source": [
    "!darknet detector map\n",
    "#detector map obj.data custom-yolov4-tiny-detector.cfg custom-yolov4-tiny-detector_1000.weights"
   ]
  }
 ],
 "metadata": {
  "kernelspec": {
   "display_name": "Python 3",
   "language": "python",
   "name": "python3"
  },
  "language_info": {
   "codemirror_mode": {
    "name": "ipython",
    "version": 3
   },
   "file_extension": ".py",
   "mimetype": "text/x-python",
   "name": "python",
   "nbconvert_exporter": "python",
   "pygments_lexer": "ipython3",
   "version": "3.8.8"
  }
 },
 "nbformat": 4,
 "nbformat_minor": 5
}
