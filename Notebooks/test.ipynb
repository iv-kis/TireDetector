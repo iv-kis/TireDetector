version https://git-lfs.github.com/spec/v1
oid sha256:a67dc8e1f40a647484350c8575ebc6e834fcc9514f7367503d2e8e856cdefe24
size 8172
