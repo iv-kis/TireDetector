version https://git-lfs.github.com/spec/v1
oid sha256:63092ba62a04b9b29ec6130ee0202e1330b0c0d3023b5601d641d0d656f30103
size 1000857
